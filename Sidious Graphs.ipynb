{
 "cells": [
  {
   "cell_type": "code",
   "execution_count": 7,
   "metadata": {},
   "outputs": [],
   "source": [
    "# Importing Relevant Dependencies\n",
    "import pandas as pd\n",
    "from matplotlib import pyplot as plt\n",
    "import scipy.stats as st\n",
    "\n",
    "# Reading in CSV File\n",
    "cdcDf = pd.read_csv(\"Resources/cleanedCaseSurveillance.csv\", low_memory=False)"
   ]
  },
  {
   "cell_type": "code",
   "execution_count": 9,
   "metadata": {},
   "outputs": [
    {
     "data": {
      "text/html": [
       "<div>\n",
       "<style scoped>\n",
       "    .dataframe tbody tr th:only-of-type {\n",
       "        vertical-align: middle;\n",
       "    }\n",
       "\n",
       "    .dataframe tbody tr th {\n",
       "        vertical-align: top;\n",
       "    }\n",
       "\n",
       "    .dataframe thead th {\n",
       "        text-align: right;\n",
       "    }\n",
       "</style>\n",
       "<table border=\"1\" class=\"dataframe\">\n",
       "  <thead>\n",
       "    <tr style=\"text-align: right;\">\n",
       "      <th></th>\n",
       "      <th>CDC Report Date</th>\n",
       "      <th>Covid Status</th>\n",
       "      <th>Gender</th>\n",
       "      <th>Age Group</th>\n",
       "      <th>Race/Ethnicity</th>\n",
       "      <th>Hospitalized</th>\n",
       "      <th>Pre-Existing Condition</th>\n",
       "    </tr>\n",
       "  </thead>\n",
       "  <tbody>\n",
       "    <tr>\n",
       "      <th>0</th>\n",
       "      <td>2020/11/10</td>\n",
       "      <td>Laboratory-confirmed case</td>\n",
       "      <td>Male</td>\n",
       "      <td>10 - 19 Years</td>\n",
       "      <td>Black, Non-Hispanic</td>\n",
       "      <td>No</td>\n",
       "      <td>No</td>\n",
       "    </tr>\n",
       "    <tr>\n",
       "      <th>1</th>\n",
       "      <td>2020/11/14</td>\n",
       "      <td>Laboratory-confirmed case</td>\n",
       "      <td>Male</td>\n",
       "      <td>10 - 19 Years</td>\n",
       "      <td>Black, Non-Hispanic</td>\n",
       "      <td>No</td>\n",
       "      <td>No</td>\n",
       "    </tr>\n",
       "    <tr>\n",
       "      <th>2</th>\n",
       "      <td>2020/11/19</td>\n",
       "      <td>Laboratory-confirmed case</td>\n",
       "      <td>Male</td>\n",
       "      <td>10 - 19 Years</td>\n",
       "      <td>Black, Non-Hispanic</td>\n",
       "      <td>No</td>\n",
       "      <td>No</td>\n",
       "    </tr>\n",
       "    <tr>\n",
       "      <th>3</th>\n",
       "      <td>2020/11/13</td>\n",
       "      <td>Laboratory-confirmed case</td>\n",
       "      <td>Male</td>\n",
       "      <td>10 - 19 Years</td>\n",
       "      <td>Black, Non-Hispanic</td>\n",
       "      <td>No</td>\n",
       "      <td>Yes</td>\n",
       "    </tr>\n",
       "    <tr>\n",
       "      <th>4</th>\n",
       "      <td>2020/11/09</td>\n",
       "      <td>Laboratory-confirmed case</td>\n",
       "      <td>Male</td>\n",
       "      <td>10 - 19 Years</td>\n",
       "      <td>Black, Non-Hispanic</td>\n",
       "      <td>No</td>\n",
       "      <td>No</td>\n",
       "    </tr>\n",
       "    <tr>\n",
       "      <th>5</th>\n",
       "      <td>2020/11/06</td>\n",
       "      <td>Laboratory-confirmed case</td>\n",
       "      <td>Male</td>\n",
       "      <td>10 - 19 Years</td>\n",
       "      <td>Black, Non-Hispanic</td>\n",
       "      <td>No</td>\n",
       "      <td>Yes</td>\n",
       "    </tr>\n",
       "    <tr>\n",
       "      <th>6</th>\n",
       "      <td>2020/11/17</td>\n",
       "      <td>Laboratory-confirmed case</td>\n",
       "      <td>Male</td>\n",
       "      <td>10 - 19 Years</td>\n",
       "      <td>Black, Non-Hispanic</td>\n",
       "      <td>No</td>\n",
       "      <td>Yes</td>\n",
       "    </tr>\n",
       "    <tr>\n",
       "      <th>7</th>\n",
       "      <td>2020/11/17</td>\n",
       "      <td>Laboratory-confirmed case</td>\n",
       "      <td>Male</td>\n",
       "      <td>10 - 19 Years</td>\n",
       "      <td>Black, Non-Hispanic</td>\n",
       "      <td>No</td>\n",
       "      <td>Yes</td>\n",
       "    </tr>\n",
       "    <tr>\n",
       "      <th>8</th>\n",
       "      <td>2020/11/09</td>\n",
       "      <td>Laboratory-confirmed case</td>\n",
       "      <td>Male</td>\n",
       "      <td>10 - 19 Years</td>\n",
       "      <td>Black, Non-Hispanic</td>\n",
       "      <td>No</td>\n",
       "      <td>Yes</td>\n",
       "    </tr>\n",
       "    <tr>\n",
       "      <th>9</th>\n",
       "      <td>2020/11/02</td>\n",
       "      <td>Laboratory-confirmed case</td>\n",
       "      <td>Male</td>\n",
       "      <td>10 - 19 Years</td>\n",
       "      <td>Black, Non-Hispanic</td>\n",
       "      <td>No</td>\n",
       "      <td>Yes</td>\n",
       "    </tr>\n",
       "  </tbody>\n",
       "</table>\n",
       "</div>"
      ],
      "text/plain": [
       "  CDC Report Date               Covid Status Gender      Age Group  \\\n",
       "0      2020/11/10  Laboratory-confirmed case   Male  10 - 19 Years   \n",
       "1      2020/11/14  Laboratory-confirmed case   Male  10 - 19 Years   \n",
       "2      2020/11/19  Laboratory-confirmed case   Male  10 - 19 Years   \n",
       "3      2020/11/13  Laboratory-confirmed case   Male  10 - 19 Years   \n",
       "4      2020/11/09  Laboratory-confirmed case   Male  10 - 19 Years   \n",
       "5      2020/11/06  Laboratory-confirmed case   Male  10 - 19 Years   \n",
       "6      2020/11/17  Laboratory-confirmed case   Male  10 - 19 Years   \n",
       "7      2020/11/17  Laboratory-confirmed case   Male  10 - 19 Years   \n",
       "8      2020/11/09  Laboratory-confirmed case   Male  10 - 19 Years   \n",
       "9      2020/11/02  Laboratory-confirmed case   Male  10 - 19 Years   \n",
       "\n",
       "        Race/Ethnicity Hospitalized Pre-Existing Condition  \n",
       "0  Black, Non-Hispanic           No                     No  \n",
       "1  Black, Non-Hispanic           No                     No  \n",
       "2  Black, Non-Hispanic           No                     No  \n",
       "3  Black, Non-Hispanic           No                    Yes  \n",
       "4  Black, Non-Hispanic           No                     No  \n",
       "5  Black, Non-Hispanic           No                    Yes  \n",
       "6  Black, Non-Hispanic           No                    Yes  \n",
       "7  Black, Non-Hispanic           No                    Yes  \n",
       "8  Black, Non-Hispanic           No                    Yes  \n",
       "9  Black, Non-Hispanic           No                    Yes  "
      ]
     },
     "execution_count": 9,
     "metadata": {},
     "output_type": "execute_result"
    }
   ],
   "source": [
    "cdcDf.head(10)"
   ]
  },
  {
   "cell_type": "code",
   "execution_count": 3,
   "metadata": {},
   "outputs": [
    {
     "data": {
      "text/html": [
       "<div>\n",
       "<style scoped>\n",
       "    .dataframe tbody tr th:only-of-type {\n",
       "        vertical-align: middle;\n",
       "    }\n",
       "\n",
       "    .dataframe tbody tr th {\n",
       "        vertical-align: top;\n",
       "    }\n",
       "\n",
       "    .dataframe thead th {\n",
       "        text-align: right;\n",
       "    }\n",
       "</style>\n",
       "<table border=\"1\" class=\"dataframe\">\n",
       "  <thead>\n",
       "    <tr style=\"text-align: right;\">\n",
       "      <th></th>\n",
       "      <th>CDC Report Date</th>\n",
       "      <th>Covid Status</th>\n",
       "      <th>Age Group</th>\n",
       "      <th>Race/Ethnicity</th>\n",
       "      <th>Hospitalized</th>\n",
       "      <th>Pre-Existing Condition</th>\n",
       "    </tr>\n",
       "    <tr>\n",
       "      <th>Gender</th>\n",
       "      <th></th>\n",
       "      <th></th>\n",
       "      <th></th>\n",
       "      <th></th>\n",
       "      <th></th>\n",
       "      <th></th>\n",
       "    </tr>\n",
       "  </thead>\n",
       "  <tbody>\n",
       "    <tr>\n",
       "      <th>Female</th>\n",
       "      <td>527037</td>\n",
       "      <td>527037</td>\n",
       "      <td>527037</td>\n",
       "      <td>527037</td>\n",
       "      <td>527037</td>\n",
       "      <td>527037</td>\n",
       "    </tr>\n",
       "    <tr>\n",
       "      <th>Male</th>\n",
       "      <td>464850</td>\n",
       "      <td>464850</td>\n",
       "      <td>464850</td>\n",
       "      <td>464850</td>\n",
       "      <td>464850</td>\n",
       "      <td>464850</td>\n",
       "    </tr>\n",
       "  </tbody>\n",
       "</table>\n",
       "</div>"
      ],
      "text/plain": [
       "        CDC Report Date  Covid Status  Age Group  Race/Ethnicity  \\\n",
       "Gender                                                             \n",
       "Female           527037        527037     527037          527037   \n",
       "Male             464850        464850     464850          464850   \n",
       "\n",
       "        Hospitalized  Pre-Existing Condition  \n",
       "Gender                                        \n",
       "Female        527037                  527037  \n",
       "Male          464850                  464850  "
      ]
     },
     "execution_count": 3,
     "metadata": {},
     "output_type": "execute_result"
    }
   ],
   "source": [
    "barpd_Pandas = cdcDf.groupby('Gender').count()\n",
    "\n",
    "barpd_Pandas"
   ]
  },
  {
   "cell_type": "code",
   "execution_count": 2,
   "metadata": {},
   "outputs": [
    {
     "data": {
      "text/plain": [
       "Text(0, 0.5, 'Hospitalizations')"
      ]
     },
     "execution_count": 2,
     "metadata": {},
     "output_type": "execute_result"
    },
    {
     "data": {
      "image/png": "[encoded data removed]",
      "text/plain": [
       "<Figure size 432x288 with 1 Axes>"
      ]
     },
     "metadata": {
      "needs_background": "light"
     },
     "output_type": "display_data"
    }
   ],
   "source": [
    "#Generate Bar Plot of Age vs. Hospitalizations (Both Sexes)\n",
    "barpd_Pandas = cdcDf.groupby('Gender').count()['Age Group']\n",
    "bar_plot_Pandas = barpd_Pandas.plot.bar(rot='vertical',title='Age vs. Hospitalizations (Both Sexes)')\n",
    "\n",
    "bar_plot_Pandas.set_xlabel(\"Both Sexes\")\n",
    "bar_plot_Pandas.set_ylabel(\"Hospitalizations\")"
   ]
  },
  {
   "cell_type": "code",
   "execution_count": 3,
   "metadata": {},
   "outputs": [
    {
     "data": {
      "text/plain": [
       "Text(0, 0.5, 'Hospitalizations')"
      ]
     },
     "execution_count": 3,
     "metadata": {},
     "output_type": "execute_result"
    },
    {
     "data": {
      "image/png": "[encoded data removed]",
      "text/plain": [
       "<Figure size 432x288 with 1 Axes>"
      ]
     },
     "metadata": {
      "needs_background": "light"
     },
     "output_type": "display_data"
    }
   ],
   "source": [
    "#Generate Bar Plot of Age vs. Hospitalizations (Male)\n",
    "males = cdcDf.loc[cdcDf['Gender'] == 'Male']\n",
    "barpd_Pandas = males.groupby('Age Group').count()['Hospitalized']\n",
    "bar_plot_Pandas = barpd_Pandas.plot.bar(rot='vertical',title='Age vs. Hospitalizations (Male)')\n",
    "\n",
    "bar_plot_Pandas.set_xlabel(\"Males By Age\")\n",
    "bar_plot_Pandas.set_ylabel(\"Hospitalizations\")"
   ]
  },
  {
   "cell_type": "code",
   "execution_count": 4,
   "metadata": {},
   "outputs": [
    {
     "data": {
      "text/plain": [
       "Text(0, 0.5, 'Hospitalizations')"
      ]
     },
     "execution_count": 4,
     "metadata": {},
     "output_type": "execute_result"
    },
    {
     "data": {
      "image/png": "[encoded data removed]",
      "text/plain": [
       "<Figure size 432x288 with 1 Axes>"
      ]
     },
     "metadata": {
      "needs_background": "light"
     },
     "output_type": "display_data"
    }
   ],
   "source": [
    "#Generate Bar Plot of Age vs. Hospitalizations (Female)\n",
    "females = cdcDf.loc[cdcDf['Gender'] == 'Female']\n",
    "barpd_Pandas = females.groupby('Age Group').count()['Hospitalized']\n",
    "bar_plot_Pandas = barpd_Pandas.plot.bar(rot='vertical',title='Age vs. Hospitalizations (Female)')\n",
    "\n",
    "bar_plot_Pandas.set_xlabel(\"Females by Age\")\n",
    "bar_plot_Pandas.set_ylabel(\"Hospitalizations\")"
   ]
  }
 ],
 "metadata": {
  "kernelspec": {
   "display_name": "Python 3",
   "language": "python",
   "name": "python3"
  },
  "language_info": {
   "codemirror_mode": {
    "name": "ipython",
    "version": 3
   },
   "file_extension": ".py",
   "mimetype": "text/x-python",
   "name": "python",
   "nbconvert_exporter": "python",
   "pygments_lexer": "ipython3",
   "version": "3.8.3"
  }
 },
 "nbformat": 4,
 "nbformat_minor": 4
}
